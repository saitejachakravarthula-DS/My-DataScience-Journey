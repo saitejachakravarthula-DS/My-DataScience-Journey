{
 "cells": [
  {
   "cell_type": "markdown",
   "id": "f8eac4e8-bd43-4e75-8781-3bb33da98b81",
   "metadata": {},
   "source": [
    "# Programming Fundamentals -1 : Intro to Python"
   ]
  },
  {
   "cell_type": "markdown",
   "id": "86ed0844-6e14-4365-9ad1-b81f7b834ba6",
   "metadata": {},
   "source": [
    "### Hello World"
   ]
  },
  {
   "cell_type": "code",
   "execution_count": 1,
   "id": "1c2fbe1b-152a-4e2c-ae3c-9c38747eff21",
   "metadata": {},
   "outputs": [
    {
     "name": "stdout",
     "output_type": "stream",
     "text": [
      "Hello World\n"
     ]
    }
   ],
   "source": [
    "print(\"Hello World\")"
   ]
  },
  {
   "cell_type": "code",
   "execution_count": 2,
   "id": "7cb5dcaf-ac56-4fd4-94a1-26379ed9d8cf",
   "metadata": {},
   "outputs": [
    {
     "name": "stdout",
     "output_type": "stream",
     "text": [
      "7\n"
     ]
    }
   ],
   "source": [
    "print(5+2)"
   ]
  },
  {
   "cell_type": "code",
   "execution_count": 3,
   "id": "8da88ae4-ca35-4ea0-bfcb-5651c12d5881",
   "metadata": {},
   "outputs": [
    {
     "name": "stdout",
     "output_type": "stream",
     "text": [
      "14\n"
     ]
    }
   ],
   "source": [
    "print(10-2+6)\n"
   ]
  },
  {
   "cell_type": "markdown",
   "id": "a8c0e1a6-cdad-4948-8137-d4e1ecc0b3bd",
   "metadata": {},
   "source": [
    "### Strings can be executed with both single and double inverted commos\n",
    "#### Single and Double quotes are same in Python"
   ]
  },
  {
   "cell_type": "code",
   "execution_count": 4,
   "id": "696bddaa-a0b5-45c9-bae4-86761d181baa",
   "metadata": {},
   "outputs": [
    {
     "name": "stdout",
     "output_type": "stream",
     "text": [
      "Good Morning\n"
     ]
    }
   ],
   "source": [
    "print(\"Good Morning\")\n"
   ]
  },
  {
   "cell_type": "code",
   "execution_count": 5,
   "id": "b620a0eb-5e3b-48c4-a907-f379ee99af60",
   "metadata": {},
   "outputs": [
    {
     "name": "stdout",
     "output_type": "stream",
     "text": [
      "good Evening\n"
     ]
    }
   ],
   "source": [
    "print('good Evening')"
   ]
  },
  {
   "cell_type": "markdown",
   "id": "bf7f90d5-9f8a-4833-a52f-486bf6aa4c88",
   "metadata": {},
   "source": [
    "### Simple Interest"
   ]
  },
  {
   "cell_type": "code",
   "execution_count": 6,
   "id": "fc2f9cbe-7ac6-4752-afae-8742f7ad1040",
   "metadata": {},
   "outputs": [],
   "source": [
    "p=100\n",
    "r=5\n",
    "t=2"
   ]
  },
  {
   "cell_type": "code",
   "execution_count": 7,
   "id": "5579b017-ebae-4041-bc64-86c7fa3c40e1",
   "metadata": {},
   "outputs": [],
   "source": [
    "si=(p * r * t)/100"
   ]
  },
  {
   "cell_type": "code",
   "execution_count": 8,
   "id": "0bdfb3a7-dfbb-4e7d-813b-fa671586fbf9",
   "metadata": {},
   "outputs": [
    {
     "name": "stdout",
     "output_type": "stream",
     "text": [
      "Simple interest is : 10.0\n"
     ]
    }
   ],
   "source": [
    "print(\"Simple interest is :\",si)"
   ]
  },
  {
   "cell_type": "markdown",
   "id": "c067005c-53b3-48fc-bd22-3efa80abdf5a",
   "metadata": {},
   "source": [
    "### Input\n"
   ]
  },
  {
   "cell_type": "markdown",
   "id": "a90b9310-f803-4cb9-a3a2-68f5eeeb11f7",
   "metadata": {},
   "source": [
    "##### Take the Input from the User"
   ]
  },
  {
   "cell_type": "code",
   "execution_count": 9,
   "id": "5bcf771d-f549-4eb5-a024-b16e6e7399e8",
   "metadata": {},
   "outputs": [
    {
     "name": "stdin",
     "output_type": "stream",
     "text": [
      " Ram\n"
     ]
    }
   ],
   "source": [
    "name=input()"
   ]
  },
  {
   "cell_type": "code",
   "execution_count": 10,
   "id": "db9bcede-3f91-4cd1-b0f5-ff8ee7061fbe",
   "metadata": {},
   "outputs": [
    {
     "name": "stdout",
     "output_type": "stream",
     "text": [
      "Hello Mr. Ram\n"
     ]
    }
   ],
   "source": [
    "print(\"Hello Mr.\",name)"
   ]
  },
  {
   "cell_type": "code",
   "execution_count": 11,
   "id": "575bc31e-4d8f-48fa-96ea-20caf5d7b1b8",
   "metadata": {},
   "outputs": [
    {
     "name": "stdin",
     "output_type": "stream",
     "text": [
      " Ram\n",
      " Ravi\n",
      " Teja\n"
     ]
    }
   ],
   "source": [
    "name1=input()\n",
    "name2=input()\n",
    "name3=input()"
   ]
  },
  {
   "cell_type": "code",
   "execution_count": 12,
   "id": "13afb446-7419-40fa-8620-515e5c6d7c1b",
   "metadata": {},
   "outputs": [
    {
     "name": "stdout",
     "output_type": "stream",
     "text": [
      "Ram Ravi Teja\n"
     ]
    }
   ],
   "source": [
    "print (name1 , name2 , name3)"
   ]
  },
  {
   "cell_type": "markdown",
   "id": "488f6eb9-d0f5-4704-b6bc-c9e41eb90891",
   "metadata": {},
   "source": [
    "## Comments"
   ]
  },
  {
   "cell_type": "markdown",
   "id": "23b4ab5d-f6fd-4251-80b8-14abfc3258b6",
   "metadata": {},
   "source": [
    "#### Comments are statements that are written inside the code but they are ignored by the interpreter . These are written to make the code understandable and Redable"
   ]
  },
  {
   "cell_type": "code",
   "execution_count": 13,
   "id": "653347de-6684-4cb7-8b65-fe983c1686a0",
   "metadata": {},
   "outputs": [
    {
     "name": "stdout",
     "output_type": "stream",
     "text": [
      "Good Evening\n",
      "Hello to Everyone\n"
     ]
    }
   ],
   "source": [
    "print(\"Good Evening\")\n",
    "#This is a good evening Statement\n",
    "\n",
    "print(\"Hello to Everyone\")"
   ]
  },
  {
   "cell_type": "markdown",
   "id": "12125c12-45a8-4ceb-b9db-948e24896e05",
   "metadata": {},
   "source": [
    "# Data Types\n",
    "* Integer -int\n",
    "* Floating point numbers - float\n",
    "* Strings -str\n",
    "* Boolean Type -bool\n",
    "* NoneType\n"
   ]
  },
  {
   "cell_type": "code",
   "execution_count": 14,
   "id": "56466990-be74-44aa-8717-ac6a5d543c91",
   "metadata": {},
   "outputs": [],
   "source": [
    "a=100"
   ]
  },
  {
   "cell_type": "code",
   "execution_count": 15,
   "id": "916f09d7-9f4f-4109-b0a9-9076f08d5417",
   "metadata": {},
   "outputs": [
    {
     "name": "stdout",
     "output_type": "stream",
     "text": [
      "<class 'int'>\n"
     ]
    }
   ],
   "source": [
    "print(type(a))"
   ]
  },
  {
   "cell_type": "markdown",
   "id": "43324e3e-60ff-46a9-8a25-1512bb0943af",
   "metadata": {},
   "source": [
    "Variable 'a' is storing a integer type of Data"
   ]
  },
  {
   "cell_type": "code",
   "execution_count": 16,
   "id": "ab243e42-37ed-41e2-8cae-2770a03ec3a6",
   "metadata": {},
   "outputs": [],
   "source": [
    "b=10.74982374"
   ]
  },
  {
   "cell_type": "code",
   "execution_count": 17,
   "id": "9f545614-2fc2-4384-8639-017e90ca31a6",
   "metadata": {},
   "outputs": [
    {
     "name": "stdout",
     "output_type": "stream",
     "text": [
      "<class 'float'>\n"
     ]
    }
   ],
   "source": [
    "print(type(b))"
   ]
  },
  {
   "cell_type": "markdown",
   "id": "d3caa1de-67ff-4ea3-9bf1-1a582a476155",
   "metadata": {},
   "source": [
    "Float - Numbers having the Decimal Point\n"
   ]
  },
  {
   "cell_type": "code",
   "execution_count": 18,
   "id": "65bd9aff-2957-47a5-9c5d-08225cc6963d",
   "metadata": {},
   "outputs": [],
   "source": [
    "c=\"Hello World\"\n",
    "d='h'"
   ]
  },
  {
   "cell_type": "code",
   "execution_count": 19,
   "id": "e7f425de-2a7a-4e9d-8842-3afec7b99aae",
   "metadata": {},
   "outputs": [
    {
     "name": "stdout",
     "output_type": "stream",
     "text": [
      "<class 'str'>\n",
      "<class 'str'>\n"
     ]
    }
   ],
   "source": [
    "print(type(c))\n",
    "print(type(d))"
   ]
  },
  {
   "cell_type": "markdown",
   "id": "1f38154f-5876-40d2-9a7a-a49db6d12b0f",
   "metadata": {},
   "source": [
    "str - String\n",
    "\n",
    "Char DataType doesnot exist in Python "
   ]
  },
  {
   "cell_type": "code",
   "execution_count": 20,
   "id": "7034fce2-0cfa-4f3f-9c0f-6ef6f6440550",
   "metadata": {},
   "outputs": [],
   "source": [
    "e=True\n",
    "f=False\n"
   ]
  },
  {
   "cell_type": "code",
   "execution_count": 21,
   "id": "bc5d0b75-628e-4eda-a317-346d74c04541",
   "metadata": {},
   "outputs": [
    {
     "name": "stdout",
     "output_type": "stream",
     "text": [
      "<class 'bool'>\n",
      "<class 'bool'>\n"
     ]
    }
   ],
   "source": [
    "print(type(e))\n",
    "print(type(f))"
   ]
  },
  {
   "cell_type": "code",
   "execution_count": 22,
   "id": "bcab3fda-8366-4ec8-90bc-cf2177578692",
   "metadata": {},
   "outputs": [],
   "source": [
    "g=None\n",
    "#None denotes NULL value"
   ]
  },
  {
   "cell_type": "code",
   "execution_count": 23,
   "id": "d06552d3-7ea3-46e8-9756-02feb864b9f5",
   "metadata": {},
   "outputs": [
    {
     "name": "stdout",
     "output_type": "stream",
     "text": [
      "<class 'NoneType'>\n"
     ]
    }
   ],
   "source": [
    "print(type(g))"
   ]
  },
  {
   "cell_type": "raw",
   "id": "c43c503e-ca70-415a-8bcc-d1d43a871be1",
   "metadata": {},
   "source": [
    "# Variable name must always begin with a character or underscore\n",
    "# Variable names are case sensitive\n",
    "# special characters are not allowed in naming variables (under score is an Exception)\n",
    "\n",
    "* name1\n",
    "* name-1 # not allowed\n",
    "* name_1 #this is allowed "
   ]
  },
  {
   "cell_type": "code",
   "execution_count": 27,
   "id": "882e0d97-9121-4b19-9fb3-a58d2cb6046c",
   "metadata": {},
   "outputs": [
    {
     "name": "stdout",
     "output_type": "stream",
     "text": [
      "<class 'float'>\n"
     ]
    }
   ],
   "source": [
    "f=7.4\n",
    "print(type(f))"
   ]
  },
  {
   "cell_type": "markdown",
   "id": "50f67a86-c205-4cb4-9b30-488c58eaf664",
   "metadata": {},
   "source": [
    "convert this float number to an Integer\n"
   ]
  },
  {
   "cell_type": "code",
   "execution_count": 25,
   "id": "e35155c5-dc8e-4f85-8c76-9711c7dc7f79",
   "metadata": {},
   "outputs": [],
   "source": [
    "i  = int(f)\n",
    "i2 = int(10.9)\n",
    "i3 = int(-5.3)"
   ]
  },
  {
   "cell_type": "code",
   "execution_count": 26,
   "id": "6eac9b22-00d6-4484-a6f6-f80aa0ed347a",
   "metadata": {},
   "outputs": [
    {
     "name": "stdout",
     "output_type": "stream",
     "text": [
      "7 10 -5\n"
     ]
    }
   ],
   "source": [
    "print(i , i2 , i3)"
   ]
  },
  {
   "cell_type": "code",
   "execution_count": 28,
   "id": "26fdb92a-643d-40ed-9935-989c0257c910",
   "metadata": {},
   "outputs": [
    {
     "name": "stdout",
     "output_type": "stream",
     "text": [
      "<class 'int'>\n"
     ]
    }
   ],
   "source": [
    "print(type(1))"
   ]
  },
  {
   "cell_type": "markdown",
   "id": "37d59704-809f-48ae-a155-57ca3ecc308b",
   "metadata": {},
   "source": [
    "convert int to float"
   ]
  },
  {
   "cell_type": "code",
   "execution_count": 37,
   "id": "47f3fb6d-8b24-4a0c-8821-0d0b44b0784e",
   "metadata": {},
   "outputs": [],
   "source": [
    "a = 10\n",
    "b = float(a)"
   ]
  },
  {
   "cell_type": "code",
   "execution_count": 38,
   "id": "091fc612-1c40-43f4-8b87-f605c335cf9b",
   "metadata": {},
   "outputs": [
    {
     "name": "stdout",
     "output_type": "stream",
     "text": [
      "10.0\n",
      "<class 'float'>\n"
     ]
    }
   ],
   "source": [
    "print(b)\n",
    "print(type(b))"
   ]
  },
  {
   "cell_type": "markdown",
   "id": "8292b044-6ac5-4596-bf69-1ee791b71317",
   "metadata": {},
   "source": [
    "#### String to Int\n"
   ]
  },
  {
   "cell_type": "code",
   "execution_count": 40,
   "id": "b42dffba-5e0d-4dc1-b710-f5f082362dd0",
   "metadata": {},
   "outputs": [],
   "source": [
    "s=\"537\"\n"
   ]
  },
  {
   "cell_type": "code",
   "execution_count": 41,
   "id": "f9b137a3-b930-4296-a5cc-0a9f94100e8e",
   "metadata": {},
   "outputs": [
    {
     "name": "stdout",
     "output_type": "stream",
     "text": [
      "<class 'str'>\n"
     ]
    }
   ],
   "source": [
    "print(type(s))"
   ]
  },
  {
   "cell_type": "code",
   "execution_count": 42,
   "id": "3f96f22f-9e6f-4e5e-9cfd-28b6daf7cf1a",
   "metadata": {},
   "outputs": [
    {
     "name": "stdout",
     "output_type": "stream",
     "text": [
      "537\n",
      "<class 'int'>\n"
     ]
    }
   ],
   "source": [
    "i=int(s)\n",
    "print(i)\n",
    "print(type(i))"
   ]
  },
  {
   "cell_type": "code",
   "execution_count": 43,
   "id": "777a1ed8-25f9-4707-9249-cdcdd9c1c9d9",
   "metadata": {},
   "outputs": [
    {
     "ename": "ValueError",
     "evalue": "invalid literal for int() with base 10: 'abcd'",
     "output_type": "error",
     "traceback": [
      "\u001b[1;31m---------------------------------------------------------------------------\u001b[0m",
      "\u001b[1;31mValueError\u001b[0m                                Traceback (most recent call last)",
      "Cell \u001b[1;32mIn[43], line 1\u001b[0m\n\u001b[1;32m----> 1\u001b[0m i2\u001b[38;5;241m=\u001b[39m\u001b[38;5;28mint\u001b[39m(\u001b[38;5;124m\"\u001b[39m\u001b[38;5;124mabcd\u001b[39m\u001b[38;5;124m\"\u001b[39m)\n",
      "\u001b[1;31mValueError\u001b[0m: invalid literal for int() with base 10: 'abcd'"
     ]
    }
   ],
   "source": [
    "i2=int(\"abcd\")"
   ]
  },
  {
   "cell_type": "markdown",
   "id": "b0076539-473b-4f6f-90c3-5815a4970ecd",
   "metadata": {},
   "source": [
    "#### convert int into string"
   ]
  },
  {
   "cell_type": "code",
   "execution_count": 44,
   "id": "95b92952-3f57-4a4d-8c6b-0c1c4d53f583",
   "metadata": {},
   "outputs": [
    {
     "name": "stdout",
     "output_type": "stream",
     "text": [
      "739257 <class 'str'>\n"
     ]
    }
   ],
   "source": [
    "x=739257\n",
    "s=str(x)\n",
    "print(s,type(s))"
   ]
  },
  {
   "cell_type": "markdown",
   "id": "8c8506d7-2679-4cb4-907b-a38ec9bee98a",
   "metadata": {},
   "source": [
    "## Range of Numbers\n",
    "Python doesn't have any range on its numbers\n"
   ]
  },
  {
   "cell_type": "markdown",
   "id": "e9c62d65-e422-410a-a3de-13b8199b2178",
   "metadata": {},
   "source": [
    "## Operators"
   ]
  },
  {
   "cell_type": "code",
   "execution_count": 46,
   "id": "883061c5-6c64-4e28-a267-1ecac4493c19",
   "metadata": {},
   "outputs": [],
   "source": [
    "a = 5 + 2  #Addition Operator\n",
    "b = 5 - 2  #Subtraction Operator\n",
    "c = 5 * 2  #Multiplication Operator\n",
    "d = 5 / 2  #Division Operator\n",
    "e = 5 % 2  #Modulus Operator\n",
    "f = 5 ** 2 #Power Operator\n"
   ]
  },
  {
   "cell_type": "code",
   "execution_count": 47,
   "id": "fb902782-921a-403b-b47b-8bed760ac594",
   "metadata": {},
   "outputs": [
    {
     "name": "stdout",
     "output_type": "stream",
     "text": [
      "7 3 10 2.5 1 25\n"
     ]
    }
   ],
   "source": [
    "print(a , b , c , d , e , f)"
   ]
  },
  {
   "cell_type": "code",
   "execution_count": null,
   "id": "d4f3492f-7ed6-4ac4-ac29-29f4410525d9",
   "metadata": {},
   "outputs": [],
   "source": []
  }
 ],
 "metadata": {
  "kernelspec": {
   "display_name": "Python 3 (ipykernel)",
   "language": "python",
   "name": "python3"
  },
  "language_info": {
   "codemirror_mode": {
    "name": "ipython",
    "version": 3
   },
   "file_extension": ".py",
   "mimetype": "text/x-python",
   "name": "python",
   "nbconvert_exporter": "python",
   "pygments_lexer": "ipython3",
   "version": "3.11.7"
  }
 },
 "nbformat": 4,
 "nbformat_minor": 5
}
