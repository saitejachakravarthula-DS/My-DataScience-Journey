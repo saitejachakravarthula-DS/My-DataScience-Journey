{
 "cells": [
  {
   "cell_type": "markdown",
   "id": "8bfe6c78-6be0-4ca6-8b2c-4a99bbc923ec",
   "metadata": {},
   "source": [
    "# Functions in Python"
   ]
  },
  {
   "cell_type": "code",
   "execution_count": 1,
   "id": "8df059d5-3a96-4e3a-8ccb-157768544411",
   "metadata": {},
   "outputs": [],
   "source": [
    "def tea() :\n",
    "    print(\"Boil water with tea leaves and sugar\")\n",
    "    print(\"Add Milk\")\n",
    "    print(\"Let it boil 4 - 5 times\")\n",
    "\n",
    "def coffee() :\n",
    "    print(\"Boil some milk\")\n",
    "    print(\"pour it in cup with some coffee\")\n",
    "    print(\"stir\")"
   ]
  },
  {
   "cell_type": "code",
   "execution_count": 2,
   "id": "d9bc2353-f365-42c5-8cbd-8946f9d529a6",
   "metadata": {},
   "outputs": [
    {
     "name": "stdout",
     "output_type": "stream",
     "text": [
      "Boil water with tea leaves and sugar\n",
      "Add Milk\n",
      "Let it boil 4 - 5 times\n"
     ]
    }
   ],
   "source": [
    "# calling tea function \n",
    "\n",
    "tea()"
   ]
  },
  {
   "cell_type": "code",
   "execution_count": 3,
   "id": "a2c23589-dd18-4596-9851-6204d09582d6",
   "metadata": {},
   "outputs": [
    {
     "name": "stdout",
     "output_type": "stream",
     "text": [
      "Boil some milk\n",
      "pour it in cup with some coffee\n",
      "stir\n"
     ]
    }
   ],
   "source": [
    "# calling coffee function\n",
    "\n",
    "coffee()"
   ]
  },
  {
   "cell_type": "markdown",
   "id": "f89a527a-9715-4650-acda-a230c75a8d7e",
   "metadata": {},
   "source": [
    "#### write a Function to say Hello to people by their Names"
   ]
  },
  {
   "cell_type": "code",
   "execution_count": 4,
   "id": "8767bdc6-d48e-4052-8b49-1d600677e5d1",
   "metadata": {},
   "outputs": [],
   "source": [
    "def hello(name):\n",
    "    print(\"Hi \" + name)"
   ]
  },
  {
   "cell_type": "code",
   "execution_count": 5,
   "id": "8c326196-026f-433d-a30e-12ab8d45fc1a",
   "metadata": {},
   "outputs": [
    {
     "name": "stdout",
     "output_type": "stream",
     "text": [
      "Hi Teja\n"
     ]
    }
   ],
   "source": [
    "hello(\"Teja\")"
   ]
  },
  {
   "cell_type": "markdown",
   "id": "07902ad1-3812-4ec8-b8c8-8cd5abc5a6eb",
   "metadata": {},
   "source": [
    "### Calling with argument names"
   ]
  },
  {
   "cell_type": "code",
   "execution_count": 6,
   "id": "750f255a-1f87-44d3-8a16-c4d13abdd059",
   "metadata": {},
   "outputs": [],
   "source": [
    "def fight(name , age , villains) :\n",
    "    print(\"Hero named\", name ,\"at age\" , age, \"was fighting all these villans - \", villains)"
   ]
  },
  {
   "cell_type": "code",
   "execution_count": 7,
   "id": "0be4fdae-eb31-4c20-af86-394c85245eb9",
   "metadata": {},
   "outputs": [
    {
     "name": "stdout",
     "output_type": "stream",
     "text": [
      "Hero named Spiderman at age 20 was fighting all these villans -  ['Vulture', 'Venom', 'Electro']\n"
     ]
    }
   ],
   "source": [
    "fight(\"Spiderman\" , 20 , [\"Vulture\" , \"Venom\" ,\"Electro\"])"
   ]
  },
  {
   "cell_type": "markdown",
   "id": "9b9f14c3-975b-4fd7-be8b-a7016d0a5882",
   "metadata": {},
   "source": [
    "##### Default Arguments"
   ]
  },
  {
   "cell_type": "code",
   "execution_count": 8,
   "id": "c322a11a-f650-4390-aa89-85daeb713c9b",
   "metadata": {},
   "outputs": [],
   "source": [
    "def fight1(name , age , villains = ['Thanos' ,'Ultron']) :\n",
    "    print(\"Hero named\", name ,\"at age\" , age, \"was fighting all these villans - \", villains)"
   ]
  },
  {
   "cell_type": "code",
   "execution_count": 9,
   "id": "c5d2076e-1bc0-49da-9b48-b3b1483742b0",
   "metadata": {},
   "outputs": [
    {
     "name": "stdout",
     "output_type": "stream",
     "text": [
      "Hero named Spiderman at age 20 was fighting all these villans -  ['Thanos', 'Ultron']\n"
     ]
    }
   ],
   "source": [
    "fight1(\"Spiderman\" , 20 )"
   ]
  },
  {
   "cell_type": "code",
   "execution_count": 10,
   "id": "cd70e3f1-e943-4db5-ba84-3cda0c2188bb",
   "metadata": {},
   "outputs": [],
   "source": [
    "def fight2(name =\"Spiderman\" , age =20 , villains = ['Thanos' ,'Ultron']) :\n",
    "    print(\"Hero named\", name ,\"at age\" , age, \"was fighting all these villans - \", villains)"
   ]
  },
  {
   "cell_type": "code",
   "execution_count": 11,
   "id": "1e6da1ef-e0ab-4514-96dd-df6a9e0355a4",
   "metadata": {},
   "outputs": [
    {
     "name": "stdout",
     "output_type": "stream",
     "text": [
      "Hero named Spiderman at age 20 was fighting all these villans -  ['Thanos', 'Ultron']\n"
     ]
    }
   ],
   "source": [
    "fight2()"
   ]
  },
  {
   "cell_type": "markdown",
   "id": "535faa4b-a543-437c-9cd8-26e41c1cb047",
   "metadata": {},
   "source": [
    "## Returning data from a Function"
   ]
  },
  {
   "cell_type": "code",
   "execution_count": 12,
   "id": "b30df565-a020-46c6-9988-dd8eea8806a4",
   "metadata": {},
   "outputs": [],
   "source": [
    "def cube(x):\n",
    "    # Return value of x ** 3\n",
    "    ans = x ** 3\n",
    "    return ans"
   ]
  },
  {
   "cell_type": "code",
   "execution_count": 13,
   "id": "bc7b7dee-6a08-4e72-9212-3adc579a43ca",
   "metadata": {},
   "outputs": [
    {
     "data": {
      "text/plain": [
       "27"
      ]
     },
     "execution_count": 13,
     "metadata": {},
     "output_type": "execute_result"
    }
   ],
   "source": [
    "cube(3)"
   ]
  },
  {
   "cell_type": "markdown",
   "id": "8a72ce6e-48cc-4eb2-b307-5ecb5c8423cd",
   "metadata": {},
   "source": [
    "### Return as many values as possible"
   ]
  },
  {
   "cell_type": "code",
   "execution_count": 14,
   "id": "4ee90e38-7bd7-48fe-bf43-3302006af754",
   "metadata": {},
   "outputs": [],
   "source": [
    "def spiderman():\n",
    "    return \"Peater Parker\" , 20 , \"Tom Holland\""
   ]
  },
  {
   "cell_type": "code",
   "execution_count": 15,
   "id": "55aba4e0-d026-4b89-8d5d-50ccce9e05d8",
   "metadata": {},
   "outputs": [],
   "source": [
    "name , age , actor = spiderman()"
   ]
  },
  {
   "cell_type": "code",
   "execution_count": 16,
   "id": "5d2fdbc7-1ff0-4910-8dd2-7ca2274ef10a",
   "metadata": {},
   "outputs": [
    {
     "name": "stdout",
     "output_type": "stream",
     "text": [
      "Name = Peater Parker\n",
      "Age = 20\n",
      "Actor= Tom Holland\n"
     ]
    }
   ],
   "source": [
    "print(\"Name =\" ,name)\n",
    "print(\"Age =\" , age)\n",
    "print(\"Actor=\",actor)"
   ]
  },
  {
   "cell_type": "markdown",
   "id": "a0b21956-ffb9-4b53-b9bd-f69378d43e0c",
   "metadata": {},
   "source": [
    "#### Calling with keyword pair arguments"
   ]
  },
  {
   "cell_type": "code",
   "execution_count": 17,
   "id": "22353111-3db5-4018-99dd-bb87ff7c0ecc",
   "metadata": {},
   "outputs": [],
   "source": [
    "def fight(name  , age  , villains ) :\n",
    "    print(\"Hero named\", name ,\"at age\" , age, \"was fighting all these villans - \", villains)"
   ]
  },
  {
   "cell_type": "code",
   "execution_count": 18,
   "id": "fa3f8686-cf22-4c54-9b60-91c62851b5e6",
   "metadata": {},
   "outputs": [],
   "source": [
    "# if we forgot the order to pass the arguments we can use this method"
   ]
  },
  {
   "cell_type": "code",
   "execution_count": 19,
   "id": "253dcba8-2638-44c8-a85d-48be44356e41",
   "metadata": {},
   "outputs": [
    {
     "name": "stdout",
     "output_type": "stream",
     "text": [
      "Hero named Spiderman at age 20 was fighting all these villans -  ['Venom', 'Electro']\n"
     ]
    }
   ],
   "source": [
    "fight(age =20 ,villains =['Venom' ,'Electro'] ,name=\"Spiderman\")"
   ]
  },
  {
   "cell_type": "markdown",
   "id": "6af76a16-2225-4473-8554-bca600b3703e",
   "metadata": {},
   "source": [
    "### Call Stack\n",
    "LIFO : Last In First Out"
   ]
  },
  {
   "cell_type": "code",
   "execution_count": 20,
   "id": "b4a86cf9-dc40-4d73-a871-3f9f41236757",
   "metadata": {},
   "outputs": [
    {
     "data": {
      "text/plain": [
       "41"
      ]
     },
     "execution_count": 20,
     "metadata": {},
     "output_type": "execute_result"
    }
   ],
   "source": [
    "def square (x):\n",
    "    return x ** 2\n",
    "\n",
    "def pythagoras(a , b):\n",
    "    c2 =square(a) + square(b)\n",
    "    return c2\n",
    "\n",
    "pythagoras(4 , 5)"
   ]
  },
  {
   "cell_type": "markdown",
   "id": "4aad5146-46e2-47fb-8c94-464f62e18342",
   "metadata": {},
   "source": [
    "#### A Program to find all the prime numbers between the given range a , b"
   ]
  },
  {
   "attachments": {},
   "cell_type": "markdown",
   "id": "24432602-cc7b-495d-b9de-cd3522106775",
   "metadata": {},
   "source": [
    "### Map Function\n",
    "\n"
   ]
  },
  {
   "cell_type": "code",
   "execution_count": 21,
   "id": "1123cf2a-e9d9-47d6-bfbd-4f4c178ce627",
   "metadata": {},
   "outputs": [],
   "source": [
    "def square(x) :\n",
    "    return x ** 2\n",
    "\n",
    "a = [5 , 2, 6, 9, 3]"
   ]
  },
  {
   "cell_type": "markdown",
   "id": "4c18c4ce-c038-4370-ab6d-a2310bd4cd8f",
   "metadata": {},
   "source": [
    "Generate a list that contains the squares of the numbers in 'a'\n",
    "\n",
    "\n",
    "b = [25 , 4, 36, 81, 9]"
   ]
  },
  {
   "cell_type": "code",
   "execution_count": 22,
   "id": "f779d622-122a-4a3f-8666-5db59effd3ae",
   "metadata": {},
   "outputs": [],
   "source": [
    "b = []\n",
    "for x in a :\n",
    "    b.append(square(x))"
   ]
  },
  {
   "cell_type": "code",
   "execution_count": 23,
   "id": "7a7177ff-1a5f-4356-bc70-1a66fd5bc097",
   "metadata": {},
   "outputs": [
    {
     "data": {
      "text/plain": [
       "[25, 4, 36, 81, 9]"
      ]
     },
     "execution_count": 23,
     "metadata": {},
     "output_type": "execute_result"
    }
   ],
   "source": [
    "b"
   ]
  },
  {
   "cell_type": "markdown",
   "id": "2ac4d406-b567-4637-8ab6-541e1aa2a5ce",
   "metadata": {},
   "source": [
    "You want to call a function on all elements of an iterable (List , Range , Tuple , Set)"
   ]
  },
  {
   "cell_type": "code",
   "execution_count": 24,
   "id": "2a1bf562-e215-4135-9af6-80b426d00b48",
   "metadata": {},
   "outputs": [],
   "source": [
    "b = list(map(square,a))"
   ]
  },
  {
   "cell_type": "code",
   "execution_count": 25,
   "id": "46e9260a-bc99-41ee-9e24-d779d85a96dd",
   "metadata": {},
   "outputs": [
    {
     "data": {
      "text/plain": [
       "[25, 4, 36, 81, 9]"
      ]
     },
     "execution_count": 25,
     "metadata": {},
     "output_type": "execute_result"
    }
   ],
   "source": [
    "b"
   ]
  },
  {
   "cell_type": "markdown",
   "id": "9d7df3d0-df3e-4ae4-a2db-e95e6827169a",
   "metadata": {},
   "source": [
    "### Lambda Function"
   ]
  },
  {
   "cell_type": "code",
   "execution_count": 26,
   "id": "984f4d9e-80f2-4cda-b2fa-898be7910136",
   "metadata": {},
   "outputs": [],
   "source": [
    "def square(x) :\n",
    "    return x ** 2\n",
    "\n",
    "def cube(x) :\n",
    "    return x **3"
   ]
  },
  {
   "cell_type": "code",
   "execution_count": 27,
   "id": "19d447d3-8407-4fd7-b921-e8459b543c31",
   "metadata": {},
   "outputs": [],
   "source": [
    "square2 = lambda x : x ** 2"
   ]
  },
  {
   "cell_type": "code",
   "execution_count": 28,
   "id": "9eba57d4-aa70-4426-b5c3-065fc993cd7b",
   "metadata": {},
   "outputs": [
    {
     "data": {
      "text/plain": [
       "25"
      ]
     },
     "execution_count": 28,
     "metadata": {},
     "output_type": "execute_result"
    }
   ],
   "source": [
    "square2(5)"
   ]
  }
 ],
 "metadata": {
  "kernelspec": {
   "display_name": "Python 3 (ipykernel)",
   "language": "python",
   "name": "python3"
  },
  "language_info": {
   "codemirror_mode": {
    "name": "ipython",
    "version": 3
   },
   "file_extension": ".py",
   "mimetype": "text/x-python",
   "name": "python",
   "nbconvert_exporter": "python",
   "pygments_lexer": "ipython3",
   "version": "3.11.7"
  }
 },
 "nbformat": 4,
 "nbformat_minor": 5
}
