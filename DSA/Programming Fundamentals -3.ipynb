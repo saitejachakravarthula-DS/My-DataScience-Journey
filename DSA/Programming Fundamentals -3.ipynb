{
 "cells": [
  {
   "cell_type": "markdown",
   "id": "bfe98c91-f514-4e36-b007-bee2f05b612e",
   "metadata": {},
   "source": [
    "## Programming Fundamentals -3\n"
   ]
  },
  {
   "cell_type": "markdown",
   "id": "eae5edfd-abbc-48e2-9502-47ffcca0f478",
   "metadata": {},
   "source": [
    "### Continue , Break"
   ]
  },
  {
   "cell_type": "code",
   "execution_count": 1,
   "id": "f368bfc7-602a-4a7a-a638-e5bbdcca3c8a",
   "metadata": {},
   "outputs": [
    {
     "name": "stdout",
     "output_type": "stream",
     "text": [
      "0\n",
      "1\n",
      "2\n",
      "3\n",
      "4\n",
      "5\n"
     ]
    }
   ],
   "source": [
    "#Break Statement\n",
    "i = 0\n",
    "while i <= 5 :\n",
    "    print (i)\n",
    "    i += 1\n",
    "    "
   ]
  },
  {
   "cell_type": "code",
   "execution_count": 2,
   "id": "5b710ec5-7aac-4b01-8a2b-5c97d335598d",
   "metadata": {},
   "outputs": [
    {
     "name": "stdout",
     "output_type": "stream",
     "text": [
      "0\n",
      "1\n",
      "2\n"
     ]
    }
   ],
   "source": [
    "i = 0\n",
    "while i <= 5 :\n",
    "    print (i)\n",
    "    i += 1\n",
    "\n",
    "    if i == 3 :\n",
    "        break"
   ]
  },
  {
   "cell_type": "markdown",
   "id": "58272ca3-ef81-40e7-815d-e2043ab51a2e",
   "metadata": {},
   "source": [
    "Generate a Random Number until we get 5"
   ]
  },
  {
   "cell_type": "code",
   "execution_count": 3,
   "id": "69610012-48a9-4019-b783-eb6c818f31a0",
   "metadata": {},
   "outputs": [
    {
     "name": "stdout",
     "output_type": "stream",
     "text": [
      "6\n",
      "9\n",
      "9\n",
      "7\n",
      "10\n",
      "4\n",
      "9\n",
      "7\n",
      "2\n",
      "9\n",
      "9\n",
      "7\n",
      "8\n",
      "9\n",
      "6\n",
      "10\n",
      "7\n",
      "1\n",
      "3\n",
      "7\n",
      "10\n",
      "5\n"
     ]
    }
   ],
   "source": [
    "import random\n",
    "\n",
    "while True:\n",
    "    #  Infinite Loop\n",
    "    r = random.randint(1,10)\n",
    "    # It will Generate a random number 1 - 10\n",
    "    print(r)\n",
    "    # r is a random number between 1 - 10\n",
    "    if r == 5:\n",
    "        break"
   ]
  },
  {
   "cell_type": "code",
   "execution_count": 4,
   "id": "5b1b4d2d-0971-4f4e-902c-d3fabf527db5",
   "metadata": {},
   "outputs": [
    {
     "name": "stdout",
     "output_type": "stream",
     "text": [
      "1 5 7 11 13 17 19 23 25 29 31 35 37 41 43 47 49 53 55 59 61 65 67 71 73 77 79 83 85 89 91 95 97 "
     ]
    }
   ],
   "source": [
    "# Continue Statement Skips an Iteration\n",
    "\n",
    "#i want to skip all the multiples of 3\n",
    "for i in range(1,100,2):\n",
    "    if i % 3 != 0:\n",
    "        print(i , end=(' '))"
   ]
  },
  {
   "cell_type": "code",
   "execution_count": 5,
   "id": "edc55877-e1e3-4309-b21f-d53bb83220d6",
   "metadata": {},
   "outputs": [
    {
     "name": "stdout",
     "output_type": "stream",
     "text": [
      "1 5 7 11 13 17 19 23 25 29 31 35 37 41 43 47 49 53 55 59 61 65 67 71 73 77 79 83 85 89 91 95 97 "
     ]
    }
   ],
   "source": [
    "#In other words we can write the code as\n",
    "for i in range(1,100,2):\n",
    "    if i % 3 == 0:\n",
    "        continue\n",
    "    print(i , end=(' '))"
   ]
  },
  {
   "cell_type": "markdown",
   "id": "fec5985d-d77e-4821-89a9-8a286907b2ed",
   "metadata": {},
   "source": [
    "#### Given a number check weather the Number is Prime or Not\n"
   ]
  },
  {
   "cell_type": "code",
   "execution_count": 6,
   "id": "44aefc7a-9913-42a5-8944-990e6b164403",
   "metadata": {},
   "outputs": [
    {
     "name": "stdin",
     "output_type": "stream",
     "text": [
      " 5\n"
     ]
    },
    {
     "name": "stdout",
     "output_type": "stream",
     "text": [
      "Prime Number\n"
     ]
    }
   ],
   "source": [
    "n = int(input())\n",
    "\n",
    "isPrime = True\n",
    "#Assume that the number is Prime\n",
    "\n",
    "for i in range(2,n):\n",
    "    #Check weather i is a divisor of n\n",
    "    \n",
    "    if n % i ==0:\n",
    "        #Not Prime\n",
    "        isPrime = False\n",
    "        break\n",
    "\n",
    "\n",
    "if isPrime or n != 2:\n",
    "    print(\"Prime Number\")\n",
    "else:\n",
    "    print(\"Not a Prime Number\")\n",
    "\n",
    "\n",
    "    "
   ]
  },
  {
   "cell_type": "code",
   "execution_count": 7,
   "id": "d051fb37-6aa9-45a6-83c5-d5b7d1e396d3",
   "metadata": {},
   "outputs": [
    {
     "name": "stdin",
     "output_type": "stream",
     "text": [
      " 23456754325798876523867\n"
     ]
    },
    {
     "name": "stdout",
     "output_type": "stream",
     "text": [
      "Not a Prime Number\n"
     ]
    }
   ],
   "source": [
    "n = int(input())\n",
    "\n",
    "for i in range(2,n):\n",
    "    \n",
    "    if n % i ==0:\n",
    "        print(\"Not a Prime Number\")\n",
    "        break\n",
    "\n",
    "else:\n",
    "    print(\"Prime Number\")"
   ]
  },
  {
   "cell_type": "markdown",
   "id": "3fa66340-6636-4a68-a0be-e65a5666a985",
   "metadata": {},
   "source": [
    "### Swap two numbers\n",
    "Given Two numbers as Input , swap and Print them"
   ]
  },
  {
   "cell_type": "code",
   "execution_count": 8,
   "id": "98c08495-a02c-4d6b-a1e3-e6050e93d64f",
   "metadata": {},
   "outputs": [
    {
     "name": "stdin",
     "output_type": "stream",
     "text": [
      " 5\n",
      " 7\n"
     ]
    }
   ],
   "source": [
    "a = int(input())\n",
    "b = int(input())"
   ]
  },
  {
   "cell_type": "code",
   "execution_count": 9,
   "id": "b0b5270c-77bc-4969-89da-302d3463db61",
   "metadata": {},
   "outputs": [],
   "source": [
    "a,b = b,a"
   ]
  },
  {
   "cell_type": "code",
   "execution_count": 10,
   "id": "c7cd048e-04ab-4809-83c7-4440e40fc564",
   "metadata": {},
   "outputs": [
    {
     "name": "stdout",
     "output_type": "stream",
     "text": [
      "7 5\n"
     ]
    }
   ],
   "source": [
    "print(a,b)"
   ]
  },
  {
   "cell_type": "markdown",
   "id": "d3e8c1f3-7425-410b-be29-2dcd32030fc3",
   "metadata": {},
   "source": [
    "### Python Lists"
   ]
  },
  {
   "cell_type": "code",
   "execution_count": 11,
   "id": "9aab8962-8bc4-423b-95d9-5d816c5dad8c",
   "metadata": {},
   "outputs": [],
   "source": [
    "a = [7,3,5,8,9]"
   ]
  },
  {
   "cell_type": "code",
   "execution_count": 12,
   "id": "b6901d06-639f-4d19-ba0e-f16bdeb5531c",
   "metadata": {},
   "outputs": [
    {
     "data": {
      "text/plain": [
       "[7, 3, 5, 8, 9]"
      ]
     },
     "execution_count": 12,
     "metadata": {},
     "output_type": "execute_result"
    }
   ],
   "source": [
    "a"
   ]
  },
  {
   "cell_type": "code",
   "execution_count": 13,
   "id": "3160a1ba-4883-4d5d-ac48-5bfdfd280ffc",
   "metadata": {},
   "outputs": [
    {
     "name": "stdout",
     "output_type": "stream",
     "text": [
      "<class 'list'>\n"
     ]
    }
   ],
   "source": [
    "print(type(a))"
   ]
  },
  {
   "cell_type": "code",
   "execution_count": 14,
   "id": "bb27b813-87e9-45df-9ba7-3fffa5992f18",
   "metadata": {},
   "outputs": [],
   "source": [
    "s = ['Hello' , 'World' , 'Python' , 'Java']"
   ]
  },
  {
   "cell_type": "code",
   "execution_count": 15,
   "id": "e1bac495-5de5-4d6a-9639-00dbfda9996e",
   "metadata": {},
   "outputs": [
    {
     "data": {
      "text/plain": [
       "['Hello', 'World', 'Python', 'Java']"
      ]
     },
     "execution_count": 15,
     "metadata": {},
     "output_type": "execute_result"
    }
   ],
   "source": [
    "s"
   ]
  },
  {
   "cell_type": "code",
   "execution_count": 16,
   "id": "64031c86-f914-4c35-8599-51c2eb34c53c",
   "metadata": {},
   "outputs": [],
   "source": [
    "b = [5 , 'Hello' , 8 , 5 , 2.3468349 , 'Python' , True , [2,3]]"
   ]
  },
  {
   "cell_type": "code",
   "execution_count": 17,
   "id": "2fca02fe-55de-4a4b-87d6-410e19a6cf9b",
   "metadata": {},
   "outputs": [
    {
     "data": {
      "text/plain": [
       "[5, 'Hello', 8, 5, 2.3468349, 'Python', True, [2, 3]]"
      ]
     },
     "execution_count": 17,
     "metadata": {},
     "output_type": "execute_result"
    }
   ],
   "source": [
    "b\n"
   ]
  },
  {
   "cell_type": "markdown",
   "id": "e0a615cf-a9d0-43c9-b823-6753ba6b1154",
   "metadata": {},
   "source": [
    "List can be Heterogenous But Array must be Homogenious"
   ]
  },
  {
   "cell_type": "code",
   "execution_count": 18,
   "id": "3fd03bbe-df8e-4f17-8656-2b7ad8f03fba",
   "metadata": {},
   "outputs": [],
   "source": [
    "a = [5 , 23 , 7 , 8 , 9 , 10]"
   ]
  },
  {
   "cell_type": "code",
   "execution_count": 19,
   "id": "d7d68927-df33-4822-99e4-7fcccd2889de",
   "metadata": {},
   "outputs": [
    {
     "data": {
      "text/plain": [
       "6"
      ]
     },
     "execution_count": 19,
     "metadata": {},
     "output_type": "execute_result"
    }
   ],
   "source": [
    "len(a)"
   ]
  },
  {
   "cell_type": "code",
   "execution_count": 20,
   "id": "47956a56-675c-45b4-82f9-7e97dc8fd2ed",
   "metadata": {},
   "outputs": [],
   "source": [
    "fruits = ['Apple' , 'Bananna' , 'Guava' , 'Pineapple']"
   ]
  },
  {
   "cell_type": "code",
   "execution_count": 21,
   "id": "d8b2d88c-7da6-4f72-a1c4-c8d92e51408d",
   "metadata": {},
   "outputs": [
    {
     "data": {
      "text/plain": [
       "'Apple'"
      ]
     },
     "execution_count": 21,
     "metadata": {},
     "output_type": "execute_result"
    }
   ],
   "source": [
    "fruits[0]"
   ]
  },
  {
   "cell_type": "code",
   "execution_count": 22,
   "id": "105d668c-f030-459f-9ad6-ede57740b2b3",
   "metadata": {},
   "outputs": [
    {
     "data": {
      "text/plain": [
       "'Pineapple'"
      ]
     },
     "execution_count": 22,
     "metadata": {},
     "output_type": "execute_result"
    }
   ],
   "source": [
    "fruits[3]"
   ]
  },
  {
   "cell_type": "code",
   "execution_count": 23,
   "id": "6a43914c-3c65-4563-979c-bf417859efda",
   "metadata": {},
   "outputs": [],
   "source": [
    "fruits[0] = 'Grapes'"
   ]
  },
  {
   "cell_type": "code",
   "execution_count": 24,
   "id": "afadc13c-2bf6-4908-a81e-fdc94eb5b4f3",
   "metadata": {},
   "outputs": [
    {
     "data": {
      "text/plain": [
       "['Grapes', 'Bananna', 'Guava', 'Pineapple']"
      ]
     },
     "execution_count": 24,
     "metadata": {},
     "output_type": "execute_result"
    }
   ],
   "source": [
    "fruits"
   ]
  },
  {
   "cell_type": "code",
   "execution_count": 25,
   "id": "77969279-1746-4c47-a281-62b2933e5359",
   "metadata": {},
   "outputs": [],
   "source": [
    "fruits.append('papayya')\n",
    "#append will add the new Element to the last "
   ]
  },
  {
   "cell_type": "code",
   "execution_count": 26,
   "id": "23020a46-2dda-486d-930f-ad93d7c01606",
   "metadata": {},
   "outputs": [
    {
     "data": {
      "text/plain": [
       "['Grapes', 'Bananna', 'Guava', 'Pineapple', 'papayya']"
      ]
     },
     "execution_count": 26,
     "metadata": {},
     "output_type": "execute_result"
    }
   ],
   "source": [
    "fruits"
   ]
  },
  {
   "cell_type": "code",
   "execution_count": 27,
   "id": "d94c5ee5-e5a3-4b15-a76e-7953bc503ef6",
   "metadata": {},
   "outputs": [
    {
     "data": {
      "text/plain": [
       "'papayya'"
      ]
     },
     "execution_count": 27,
     "metadata": {},
     "output_type": "execute_result"
    }
   ],
   "source": [
    "fruits.pop()\n",
    "#pop will remove an element from last "
   ]
  },
  {
   "cell_type": "code",
   "execution_count": 28,
   "id": "6d77ff00-e966-4de1-993d-6600f0706557",
   "metadata": {},
   "outputs": [
    {
     "data": {
      "text/plain": [
       "['Grapes', 'Bananna', 'Guava', 'Pineapple']"
      ]
     },
     "execution_count": 28,
     "metadata": {},
     "output_type": "execute_result"
    }
   ],
   "source": [
    "fruits"
   ]
  },
  {
   "cell_type": "markdown",
   "id": "142aac73-90dd-43c8-bfd3-5b0b7b714f06",
   "metadata": {},
   "source": [
    "#### Creating an empty List "
   ]
  },
  {
   "cell_type": "code",
   "execution_count": 29,
   "id": "b6396649-e37c-4d7a-98f5-508ec79f7010",
   "metadata": {},
   "outputs": [],
   "source": [
    "a = []\n",
    "\n",
    "#List constructor\n",
    "a = list()"
   ]
  },
  {
   "cell_type": "code",
   "execution_count": 30,
   "id": "27a29981-2aab-472b-9779-aa123e3e729a",
   "metadata": {},
   "outputs": [
    {
     "data": {
      "text/plain": [
       "[2, 3, 4, 5, 6, 7, 8, 9]"
      ]
     },
     "execution_count": 30,
     "metadata": {},
     "output_type": "execute_result"
    }
   ],
   "source": [
    "list (range(2,10))"
   ]
  },
  {
   "cell_type": "markdown",
   "id": "2b79f176-6c4b-4be5-a3ac-68a21dda98bd",
   "metadata": {},
   "source": [
    "## Check weather a Number is Present in List\n",
    "\n",
    "Linear Search"
   ]
  },
  {
   "cell_type": "code",
   "execution_count": 31,
   "id": "0bf99111-f33d-47c8-81f7-9b2ced0b16c4",
   "metadata": {},
   "outputs": [
    {
     "name": "stdout",
     "output_type": "stream",
     "text": [
      "Yes\n"
     ]
    }
   ],
   "source": [
    "a = [2 , 6 , 9 , 3 , 4 , 1 , 5]\n",
    "b = 9\n",
    "\n",
    "if b in a :\n",
    "    print(\"Yes\")\n",
    "else:\n",
    "    print(\"No\")"
   ]
  },
  {
   "cell_type": "markdown",
   "id": "3c8129fe-dd0f-44dc-8bf1-0694731e402e",
   "metadata": {},
   "source": [
    "### also Find the Index of the Number"
   ]
  },
  {
   "cell_type": "code",
   "execution_count": 32,
   "id": "5f1826d6-5cf4-473f-8c02-8a2bba486971",
   "metadata": {},
   "outputs": [
    {
     "name": "stdout",
     "output_type": "stream",
     "text": [
      "2\n"
     ]
    }
   ],
   "source": [
    "# Inbuilt Function\n",
    "\n",
    "print(a.index(b))"
   ]
  },
  {
   "cell_type": "code",
   "execution_count": 33,
   "id": "9e37892a-432d-46af-b077-84582364dd8f",
   "metadata": {},
   "outputs": [
    {
     "name": "stdout",
     "output_type": "stream",
     "text": [
      "2\n"
     ]
    }
   ],
   "source": [
    "# Without the Inbuilt Function\n",
    "for i in range(len(a)):\n",
    "    if a[i] == b :\n",
    "        print(i)\n",
    "        break"
   ]
  },
  {
   "cell_type": "markdown",
   "id": "af529d2e-559f-4fbe-a4ee-63dab2d6bad7",
   "metadata": {},
   "source": [
    "## Reading List Input\n",
    "\n",
    "Assume you are given a list input in one single line such as\n",
    "10 20 30 40 \n",
    "\n",
    "You required to read the input and store it in a list.\n",
    "\n",
    "There are mainly two wys to go about it.\n",
    "\n",
    "* Method 1:\n",
    "  Using map function\n",
    "\n",
    "      a = list(map(int , input().split()))\n",
    "\n",
    "* Method 2 :  \n",
    "  Using Simple Loops"
   ]
  },
  {
   "cell_type": "code",
   "execution_count": 34,
   "id": "e49730cf-5a96-4daf-8bc8-fdc301cbabe5",
   "metadata": {},
   "outputs": [
    {
     "name": "stdin",
     "output_type": "stream",
     "text": [
      " 10 20 30 40\n"
     ]
    }
   ],
   "source": [
    "# Method 2\n",
    "\n",
    "a = input()\n"
   ]
  },
  {
   "cell_type": "code",
   "execution_count": 35,
   "id": "396dec84-8f4b-4dc9-a302-d90d49c5a122",
   "metadata": {},
   "outputs": [],
   "source": [
    "b = a.split()\n",
    "\n",
    "#returns a list of entries seperated by spaces"
   ]
  },
  {
   "cell_type": "code",
   "execution_count": 36,
   "id": "0ea490df-347f-4c7f-8774-359f6f9b7035",
   "metadata": {},
   "outputs": [
    {
     "data": {
      "text/plain": [
       "['10', '20', '30', '40']"
      ]
     },
     "execution_count": 36,
     "metadata": {},
     "output_type": "execute_result"
    }
   ],
   "source": [
    "b"
   ]
  },
  {
   "cell_type": "code",
   "execution_count": 37,
   "id": "9b811443-cec3-4c91-8b79-35a99af12ae4",
   "metadata": {},
   "outputs": [
    {
     "data": {
      "text/plain": [
       "str"
      ]
     },
     "execution_count": 37,
     "metadata": {},
     "output_type": "execute_result"
    }
   ],
   "source": [
    "type(b[0])"
   ]
  },
  {
   "cell_type": "markdown",
   "id": "ad3cfbb7-bc6d-4e24-b86e-7b4e17b4b64a",
   "metadata": {},
   "source": [
    "### Step 2 : Seperate over the split list and use 'int' function on each entry"
   ]
  },
  {
   "cell_type": "code",
   "execution_count": 38,
   "id": "52de9a9b-021b-49fd-a690-ed11210e3864",
   "metadata": {},
   "outputs": [],
   "source": [
    "for i in range(len(b)):\n",
    "    b[i] = int(b[i])"
   ]
  },
  {
   "cell_type": "code",
   "execution_count": 39,
   "id": "2ccdd162-0d6b-4dbf-b65e-b5159c991f58",
   "metadata": {},
   "outputs": [
    {
     "data": {
      "text/plain": [
       "[10, 20, 30, 40]"
      ]
     },
     "execution_count": 39,
     "metadata": {},
     "output_type": "execute_result"
    }
   ],
   "source": [
    "b"
   ]
  },
  {
   "cell_type": "code",
   "execution_count": 40,
   "id": "181f7ce1-46ce-47d1-85d4-b30ea04dc880",
   "metadata": {},
   "outputs": [
    {
     "data": {
      "text/plain": [
       "int"
      ]
     },
     "execution_count": 40,
     "metadata": {},
     "output_type": "execute_result"
    }
   ],
   "source": [
    "type(b[0])"
   ]
  },
  {
   "cell_type": "markdown",
   "id": "27348bda-20db-43b0-84e9-0795c4017682",
   "metadata": {},
   "source": [
    "### Reverse a List\n",
    "Given a list of Numbers , reverse it and print it\n",
    "(Try this problem with and without inbuilt method)\n",
    "\n",
    "Input :\n",
    "List = [4 , 5 , 8 , 1 , 9 , 2]\n",
    "\n",
    "Output :\n",
    "2 9 1 8 5 4"
   ]
  },
  {
   "cell_type": "code",
   "execution_count": 41,
   "id": "4e7fa7ef-58e5-46af-ab54-10ed01cd72a3",
   "metadata": {},
   "outputs": [],
   "source": [
    "a = [4 , 5 , 8 , 1 , 9 , 2]"
   ]
  },
  {
   "cell_type": "code",
   "execution_count": 42,
   "id": "7b05e2cb-6f85-4046-a9ce-91678517475b",
   "metadata": {},
   "outputs": [
    {
     "data": {
      "text/plain": [
       "['__add__',\n",
       " '__class__',\n",
       " '__class_getitem__',\n",
       " '__contains__',\n",
       " '__delattr__',\n",
       " '__delitem__',\n",
       " '__dir__',\n",
       " '__doc__',\n",
       " '__eq__',\n",
       " '__format__',\n",
       " '__ge__',\n",
       " '__getattribute__',\n",
       " '__getitem__',\n",
       " '__getstate__',\n",
       " '__gt__',\n",
       " '__hash__',\n",
       " '__iadd__',\n",
       " '__imul__',\n",
       " '__init__',\n",
       " '__init_subclass__',\n",
       " '__iter__',\n",
       " '__le__',\n",
       " '__len__',\n",
       " '__lt__',\n",
       " '__mul__',\n",
       " '__ne__',\n",
       " '__new__',\n",
       " '__reduce__',\n",
       " '__reduce_ex__',\n",
       " '__repr__',\n",
       " '__reversed__',\n",
       " '__rmul__',\n",
       " '__setattr__',\n",
       " '__setitem__',\n",
       " '__sizeof__',\n",
       " '__str__',\n",
       " '__subclasshook__',\n",
       " 'append',\n",
       " 'clear',\n",
       " 'copy',\n",
       " 'count',\n",
       " 'extend',\n",
       " 'index',\n",
       " 'insert',\n",
       " 'pop',\n",
       " 'remove',\n",
       " 'reverse',\n",
       " 'sort']"
      ]
     },
     "execution_count": 42,
     "metadata": {},
     "output_type": "execute_result"
    }
   ],
   "source": [
    "dir(a)"
   ]
  },
  {
   "cell_type": "code",
   "execution_count": 43,
   "id": "8cbdcc90-422e-473c-9149-579b4672ae85",
   "metadata": {},
   "outputs": [],
   "source": [
    "a.reverse()"
   ]
  },
  {
   "cell_type": "code",
   "execution_count": 44,
   "id": "ea97081a-d6bb-4435-bbce-42c41cae4eef",
   "metadata": {},
   "outputs": [
    {
     "data": {
      "text/plain": [
       "[2, 9, 1, 8, 5, 4]"
      ]
     },
     "execution_count": 44,
     "metadata": {},
     "output_type": "execute_result"
    }
   ],
   "source": [
    "a"
   ]
  },
  {
   "cell_type": "code",
   "execution_count": 45,
   "id": "0371623b-393a-40dc-b55e-7d4b3449f0d7",
   "metadata": {},
   "outputs": [],
   "source": [
    "# Without using the inbuilt function"
   ]
  },
  {
   "cell_type": "code",
   "execution_count": 46,
   "id": "8ce0b1e5-942b-4664-b292-6535dcad6433",
   "metadata": {},
   "outputs": [
    {
     "data": {
      "text/plain": [
       "[2, 9, 1, 8, 5, 4]"
      ]
     },
     "execution_count": 46,
     "metadata": {},
     "output_type": "execute_result"
    }
   ],
   "source": [
    "a "
   ]
  },
  {
   "cell_type": "code",
   "execution_count": 47,
   "id": "6b05cd6d-293e-44a8-b800-4900c98c5727",
   "metadata": {},
   "outputs": [
    {
     "data": {
      "text/plain": [
       "[4, 5, 8, 1, 9, 2]"
      ]
     },
     "execution_count": 47,
     "metadata": {},
     "output_type": "execute_result"
    }
   ],
   "source": [
    "a[::-1]"
   ]
  }
 ],
 "metadata": {
  "kernelspec": {
   "display_name": "Python 3 (ipykernel)",
   "language": "python",
   "name": "python3"
  },
  "language_info": {
   "codemirror_mode": {
    "name": "ipython",
    "version": 3
   },
   "file_extension": ".py",
   "mimetype": "text/x-python",
   "name": "python",
   "nbconvert_exporter": "python",
   "pygments_lexer": "ipython3",
   "version": "3.11.7"
  }
 },
 "nbformat": 4,
 "nbformat_minor": 5
}
