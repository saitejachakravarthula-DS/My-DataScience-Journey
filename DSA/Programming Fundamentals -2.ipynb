{
 "cells": [
  {
   "cell_type": "markdown",
   "id": "bb33a0b6-3c5e-413a-ad1f-cb58de77f5cf",
   "metadata": {},
   "source": [
    "## Programming fundamentals - 2\n"
   ]
  },
  {
   "cell_type": "markdown",
   "id": "8c02ae55-c4c0-4145-95d8-90d1a8b40149",
   "metadata": {},
   "source": [
    "#### Print Statement -args , end , sep"
   ]
  },
  {
   "cell_type": "code",
   "execution_count": 1,
   "id": "4a3867b3-ddcd-4337-b686-4c6dc7586067",
   "metadata": {},
   "outputs": [
    {
     "name": "stdout",
     "output_type": "stream",
     "text": [
      "Hello world\n"
     ]
    }
   ],
   "source": [
    "print(\"Hello world\")"
   ]
  },
  {
   "cell_type": "code",
   "execution_count": 2,
   "id": "664efe7b-d799-4513-81ee-663d0cc07bc6",
   "metadata": {},
   "outputs": [
    {
     "name": "stdout",
     "output_type": "stream",
     "text": [
      "Hello World Hi  there\n",
      "Python is amazing\n"
     ]
    }
   ],
   "source": [
    "print(\"Hello\" , \"World\" , \"Hi\" , \" there\")\n",
    "print(\"Python is amazing\")"
   ]
  },
  {
   "cell_type": "code",
   "execution_count": 3,
   "id": "c29bdf4f-24ee-4d69-8330-9d95df10bdb5",
   "metadata": {},
   "outputs": [
    {
     "name": "stdout",
     "output_type": "stream",
     "text": [
      "Hello=World=Hi= there\n",
      "Hello+World+Hi+ there@@@Hello+World+Hi+ there\n",
      "Hello+World+Hi+ there$$$"
     ]
    }
   ],
   "source": [
    "#By default the value of sep = ' ' \n",
    "print(\"Hello\" , \"World\" , \"Hi\" , \" there\" , sep = '=' )\n",
    "print(\"Hello\" , \"World\" , \"Hi\" , \" there\" , sep = '+' , end ='@@@' )\n",
    "print(\"Hello\" , \"World\" , \"Hi\" , \" there\" , sep = '+' , end ='\\n' )\n",
    "print(\"Hello\" , \"World\" , \"Hi\" , \" there\" , sep = '+' , end ='$$$' )"
   ]
  },
  {
   "cell_type": "markdown",
   "id": "9e2c2614-dfc2-4662-8832-9013c90047cb",
   "metadata": {},
   "source": [
    "### Multiline Strings , Comments"
   ]
  },
  {
   "cell_type": "code",
   "execution_count": 4,
   "id": "94046797-73c8-4f9c-be6d-3e12dd6401fd",
   "metadata": {},
   "outputs": [],
   "source": [
    "s1 = \"Hello World\"\n",
    "s2 = 'Hello World'"
   ]
  },
  {
   "cell_type": "code",
   "execution_count": 5,
   "id": "efbcea64-0494-4d4a-bf4e-62842e391472",
   "metadata": {},
   "outputs": [
    {
     "name": "stdout",
     "output_type": "stream",
     "text": [
      "Hello World Hello World <class 'str'> <class 'str'>\n"
     ]
    }
   ],
   "source": [
    "print(s1 , s2 , type(s1) , type(s2))"
   ]
  },
  {
   "cell_type": "code",
   "execution_count": 6,
   "id": "bc711a4b-b57c-4b0d-8f10-738cb98c705a",
   "metadata": {},
   "outputs": [],
   "source": [
    "s3 = '''\n",
    "\n",
    "Lorem Ipsum is simply dummy text of the printing and typesetting industry. Lorem Ipsum has been the industry's standard dummy text ever since the 1500s, when an unknown printer took a galley of type and scrambled it to make a type specimen book. It has survived not only five centuries, but also the leap into electronic typesetting, remaining essentially unchanged. It was popularised in the 1960s with the release of Letraset sheets containing Lorem Ipsum passages, and more recently with desktop publishing software like Aldus PageMaker including versions of Lorem Ipsum.\n",
    "\n",
    "Why do we use it?\n",
    "It is a long established fact that a reader will be distracted by the readable content of a page when looking at its layout. The point of using Lorem Ipsum is that it has a more-or-less normal distribution of letters, as opposed to using 'Content here, content here', making it look like readable English. Many desktop publishing packages and web page editors now use Lorem Ipsum as their default model text, and a search for 'lorem ipsum' will uncover many web sites still in their infancy. Various versions have evolved over the years, sometimes by accident, sometimes on purpose (injected humour and the like).\n",
    "\n",
    "'''"
   ]
  },
  {
   "cell_type": "code",
   "execution_count": 7,
   "id": "693aa0b7-cbbf-4c79-b248-1ee9b1895e26",
   "metadata": {},
   "outputs": [
    {
     "name": "stdout",
     "output_type": "stream",
     "text": [
      "\n",
      "\n",
      "Lorem Ipsum is simply dummy text of the printing and typesetting industry. Lorem Ipsum has been the industry's standard dummy text ever since the 1500s, when an unknown printer took a galley of type and scrambled it to make a type specimen book. It has survived not only five centuries, but also the leap into electronic typesetting, remaining essentially unchanged. It was popularised in the 1960s with the release of Letraset sheets containing Lorem Ipsum passages, and more recently with desktop publishing software like Aldus PageMaker including versions of Lorem Ipsum.\n",
      "\n",
      "Why do we use it?\n",
      "It is a long established fact that a reader will be distracted by the readable content of a page when looking at its layout. The point of using Lorem Ipsum is that it has a more-or-less normal distribution of letters, as opposed to using 'Content here, content here', making it look like readable English. Many desktop publishing packages and web page editors now use Lorem Ipsum as their default model text, and a search for 'lorem ipsum' will uncover many web sites still in their infancy. Various versions have evolved over the years, sometimes by accident, sometimes on purpose (injected humour and the like).\n",
      "\n",
      " <class 'str'>\n"
     ]
    }
   ],
   "source": [
    "print(s3 , type(s3))"
   ]
  },
  {
   "cell_type": "code",
   "execution_count": 8,
   "id": "1f712dc3-dc8e-40d1-9d18-545324c7669a",
   "metadata": {},
   "outputs": [],
   "source": [
    "s4 = \"\"\"\n",
    "Lorem ipsum dolor sit amet, consectetur adipiscing elit. Sed consectetur odio maximus, convallis dui ac, dictum massa. Donec sit amet lectus aliquam, vulputate libero ut, pretium justo. Suspendisse eget venenatis leo, eu lacinia neque. Praesent at augue quis tellus finibus porttitor sit amet quis mauris. Nullam consectetur ornare purus. Morbi magna nisl, venenatis vitae lectus ac, tempus pharetra augue. Pellentesque dignissim ac ipsum eu faucibus. Aenean sagittis aliquam nisl non vulputate. Sed ultrices posuere nulla, id rhoncus nisl ultrices quis. Nam aliquam tempus purus, in tempus massa accumsan nec. Suspendisse rutrum eros at risus imperdiet, eu tincidunt mauris maximus. Pellentesque et convallis velit, id vehicula quam. Donec eget vehicula mi, eu tincidunt est. Donec ex urna, laoreet vel vestibulum tincidunt, blandit non nibh.\n",
    "\n",
    "Proin placerat consectetur tristique. Quisque dui arcu, lacinia ut facilisis in, accumsan eget lorem. Duis sit amet erat eu nibh posuere iaculis faucibus sed augue. Suspendisse fermentum pretium mi quis gravida. Mauris faucibus aliquam fringilla. Vestibulum id enim sodales, eleifend leo vel, tristique ipsum. Duis mattis sit amet urna et sollicitudin. Morbi nec enim et libero congue pellentesque. Aenean viverra tempus risus sed venenatis. Aliquam vehicula vestibulum urna eget scelerisque. Proin a condimentum tortor.\n",
    "\"\"\""
   ]
  },
  {
   "cell_type": "code",
   "execution_count": 9,
   "id": "b83fcf94-d760-4acc-823f-4e06bec464b3",
   "metadata": {},
   "outputs": [
    {
     "name": "stdout",
     "output_type": "stream",
     "text": [
      "\n",
      "Lorem ipsum dolor sit amet, consectetur adipiscing elit. Sed consectetur odio maximus, convallis dui ac, dictum massa. Donec sit amet lectus aliquam, vulputate libero ut, pretium justo. Suspendisse eget venenatis leo, eu lacinia neque. Praesent at augue quis tellus finibus porttitor sit amet quis mauris. Nullam consectetur ornare purus. Morbi magna nisl, venenatis vitae lectus ac, tempus pharetra augue. Pellentesque dignissim ac ipsum eu faucibus. Aenean sagittis aliquam nisl non vulputate. Sed ultrices posuere nulla, id rhoncus nisl ultrices quis. Nam aliquam tempus purus, in tempus massa accumsan nec. Suspendisse rutrum eros at risus imperdiet, eu tincidunt mauris maximus. Pellentesque et convallis velit, id vehicula quam. Donec eget vehicula mi, eu tincidunt est. Donec ex urna, laoreet vel vestibulum tincidunt, blandit non nibh.\n",
      "\n",
      "Proin placerat consectetur tristique. Quisque dui arcu, lacinia ut facilisis in, accumsan eget lorem. Duis sit amet erat eu nibh posuere iaculis faucibus sed augue. Suspendisse fermentum pretium mi quis gravida. Mauris faucibus aliquam fringilla. Vestibulum id enim sodales, eleifend leo vel, tristique ipsum. Duis mattis sit amet urna et sollicitudin. Morbi nec enim et libero congue pellentesque. Aenean viverra tempus risus sed venenatis. Aliquam vehicula vestibulum urna eget scelerisque. Proin a condimentum tortor.\n",
      " <class 'str'>\n"
     ]
    }
   ],
   "source": [
    "print(s4 , type(s4))"
   ]
  },
  {
   "cell_type": "markdown",
   "id": "c0378d6f-a542-4fc5-adb0-f5298bde6014",
   "metadata": {},
   "source": [
    "### Branching"
   ]
  },
  {
   "cell_type": "code",
   "execution_count": 10,
   "id": "eebfbc19-73db-4b3f-8c7d-d7086be7fb7f",
   "metadata": {},
   "outputs": [],
   "source": [
    "age = 8"
   ]
  },
  {
   "cell_type": "code",
   "execution_count": 11,
   "id": "01c84584-22ca-4e03-ad0a-c1788c993a22",
   "metadata": {},
   "outputs": [
    {
     "name": "stdout",
     "output_type": "stream",
     "text": [
      "Not eligible to vote\n"
     ]
    }
   ],
   "source": [
    "if age >= 18:\n",
    "    print(\"eligible to vote\")\n",
    "else:\n",
    "    print(\"Not eligible to vote\")"
   ]
  },
  {
   "cell_type": "code",
   "execution_count": 12,
   "id": "83a6de1a-4460-4c70-800f-933a251d2aea",
   "metadata": {},
   "outputs": [
    {
     "name": "stdout",
     "output_type": "stream",
     "text": [
      "Not eligible to vote\n"
     ]
    }
   ],
   "source": [
    "if age >= 18:\n",
    "    print(\"eligible to vote\")\n",
    "elif age >= 10:\n",
    "    print(\"above age of 10 , still not eligible to Vote\")\n",
    "else:\n",
    "    print(\"Not eligible to vote\")"
   ]
  },
  {
   "cell_type": "markdown",
   "id": "36c1999c-e156-498e-8d4a-8ce955f24786",
   "metadata": {},
   "source": [
    "### and or\n"
   ]
  },
  {
   "cell_type": "code",
   "execution_count": 13,
   "id": "c7e6a68c-2963-4ded-aeec-09d97ed14d56",
   "metadata": {},
   "outputs": [
    {
     "name": "stdout",
     "output_type": "stream",
     "text": [
      "Block\n"
     ]
    }
   ],
   "source": [
    "batch = \"Java\"\n",
    "org = \"scaler\"\n",
    "if (org == \"scaler\"  and batch == \"Python\"):\n",
    "    print(\"Allow\")\n",
    "else:\n",
    "    print(\"Block\")"
   ]
  },
  {
   "cell_type": "code",
   "execution_count": 14,
   "id": "99e30788-b9e5-4f5e-a983-576c2735a440",
   "metadata": {},
   "outputs": [
    {
     "name": "stdin",
     "output_type": "stream",
     "text": [
      " abc\n"
     ]
    }
   ],
   "source": [
    "org = input()"
   ]
  },
  {
   "cell_type": "code",
   "execution_count": 15,
   "id": "0193a3f7-0d5c-4943-ad83-4c60c9344df9",
   "metadata": {},
   "outputs": [
    {
     "name": "stdout",
     "output_type": "stream",
     "text": [
      "Ban\n"
     ]
    }
   ],
   "source": [
    "if org ==\"scaler\" or org == 'interviewbit':\n",
    "    print(\"Allow\")\n",
    "else:\n",
    "    print(\"Ban\")"
   ]
  },
  {
   "cell_type": "markdown",
   "id": "25248ef8-4525-48c8-a660-c66290f1341d",
   "metadata": {},
   "source": [
    "## Loops"
   ]
  },
  {
   "cell_type": "markdown",
   "id": "0d087fc8-5224-4123-acc0-dbe89604d3ac",
   "metadata": {},
   "source": [
    "#### While loop"
   ]
  },
  {
   "cell_type": "code",
   "execution_count": 16,
   "id": "7f8b01ed-beac-40f7-b16c-67ca4c68558a",
   "metadata": {},
   "outputs": [],
   "source": [
    "#printing the numbers from 1 to 10"
   ]
  },
  {
   "cell_type": "code",
   "execution_count": 17,
   "id": "dedb4a09-6ad8-4202-b914-62b75e216329",
   "metadata": {},
   "outputs": [
    {
     "name": "stdout",
     "output_type": "stream",
     "text": [
      "1\n",
      "2\n",
      "3\n",
      "4\n",
      "5\n",
      "6\n",
      "7\n",
      "8\n",
      "9\n",
      "10\n"
     ]
    }
   ],
   "source": [
    "counter = 1 \n",
    "while counter <= 10:\n",
    "    print(counter)\n",
    "    counter = counter + 1"
   ]
  },
  {
   "cell_type": "code",
   "execution_count": 18,
   "id": "fbaccbeb-e75a-45d7-a7a9-78555ea8026f",
   "metadata": {},
   "outputs": [
    {
     "name": "stdout",
     "output_type": "stream",
     "text": [
      "1 2 3 4 5 6 7 8 9 10 "
     ]
    }
   ],
   "source": [
    "counter = 1 \n",
    "while counter <= 10:\n",
    "    print(counter , end = ' ')\n",
    "    counter = counter + 1"
   ]
  },
  {
   "cell_type": "markdown",
   "id": "1f553353-8632-4ff8-a5db-2e145314be31",
   "metadata": {},
   "source": [
    "#### Stair"
   ]
  },
  {
   "cell_type": "markdown",
   "id": "feeb9282-9fe9-4cdf-b34e-9d2fa26fb159",
   "metadata": {},
   "source": [
    "##### N=4"
   ]
  },
  {
   "cell_type": "code",
   "execution_count": 19,
   "id": "6c5512a3-80c7-4c0b-a29c-f45b01164bcf",
   "metadata": {},
   "outputs": [
    {
     "data": {
      "text/plain": [
       "'\\n*\\n**\\n***\\n****\\n'"
      ]
     },
     "execution_count": 19,
     "metadata": {},
     "output_type": "execute_result"
    }
   ],
   "source": [
    "\n",
    "\"\"\"\n",
    "*\n",
    "**\n",
    "***\n",
    "****\n",
    "\"\"\""
   ]
  },
  {
   "cell_type": "code",
   "execution_count": 20,
   "id": "821c4db5-f97f-4d46-8399-aef673d81c0b",
   "metadata": {},
   "outputs": [
    {
     "name": "stdin",
     "output_type": "stream",
     "text": [
      " 5\n"
     ]
    }
   ],
   "source": [
    "n = int(input())"
   ]
  },
  {
   "cell_type": "code",
   "execution_count": 21,
   "id": "e7c2f21f-f691-4347-815d-16613cf6286a",
   "metadata": {},
   "outputs": [],
   "source": [
    "#input always takes the input as a String so if we want a particular type we should typecast it"
   ]
  },
  {
   "cell_type": "code",
   "execution_count": 22,
   "id": "c92c69ca-4775-4ae4-a706-c095fc913bb1",
   "metadata": {},
   "outputs": [],
   "source": [
    "i = 1"
   ]
  },
  {
   "cell_type": "code",
   "execution_count": 23,
   "id": "56a934e8-489b-4d6a-baec-cd2d275b039c",
   "metadata": {},
   "outputs": [
    {
     "name": "stdout",
     "output_type": "stream",
     "text": [
      "*\n",
      "**\n",
      "***\n",
      "****\n",
      "*****\n"
     ]
    }
   ],
   "source": [
    "while i <= n:\n",
    "    #print i stars for ith row\n",
    "    print( \"*\" * i)\n",
    "    i = i + 1"
   ]
  },
  {
   "cell_type": "markdown",
   "id": "3837fa77-722a-405f-af5a-62145fd9a468",
   "metadata": {},
   "source": [
    "## Range Method"
   ]
  },
  {
   "cell_type": "code",
   "execution_count": 24,
   "id": "4ed7714c-142a-477c-ba92-b05e22fdbf01",
   "metadata": {},
   "outputs": [
    {
     "data": {
      "text/plain": [
       "[0, 1, 2, 3, 4, 5, 6, 7, 8, 9, 10]"
      ]
     },
     "execution_count": 24,
     "metadata": {},
     "output_type": "execute_result"
    }
   ],
   "source": [
    "list(range(11))"
   ]
  },
  {
   "cell_type": "code",
   "execution_count": 25,
   "id": "41458785-5cde-4671-9fda-46efc48e5008",
   "metadata": {},
   "outputs": [],
   "source": [
    "#range(11) ----->End\n",
    "#range(1 , 11) ----->Start and End\n",
    "#range(2 , 11 , 2) ----->Start , End , Increment"
   ]
  },
  {
   "cell_type": "code",
   "execution_count": 26,
   "id": "f6bb9e37-6712-4fef-9da5-143867909c55",
   "metadata": {},
   "outputs": [
    {
     "data": {
      "text/plain": [
       "[1, 2, 3, 4, 5, 6, 7, 8, 9, 10]"
      ]
     },
     "execution_count": 26,
     "metadata": {},
     "output_type": "execute_result"
    }
   ],
   "source": [
    "list(range(1 , 11))"
   ]
  },
  {
   "cell_type": "code",
   "execution_count": 27,
   "id": "1fcf7000-b985-4917-b754-e87fd89be1c8",
   "metadata": {},
   "outputs": [
    {
     "data": {
      "text/plain": [
       "[2, 4, 6, 8, 10]"
      ]
     },
     "execution_count": 27,
     "metadata": {},
     "output_type": "execute_result"
    }
   ],
   "source": [
    "list(range(2 , 11 , 2))"
   ]
  },
  {
   "cell_type": "markdown",
   "id": "a008cb86-1bd7-4722-991f-b9dcfa11410b",
   "metadata": {},
   "source": [
    "## For Loop\n",
    "It allows us to Iterate over a Range"
   ]
  },
  {
   "cell_type": "markdown",
   "id": "596eda18-587f-4876-b429-3c147b4397c8",
   "metadata": {},
   "source": [
    "Print odd numbers from 1 to 10"
   ]
  },
  {
   "cell_type": "code",
   "execution_count": 28,
   "id": "cdae2a68-da44-4d61-8dc9-f3213ec391cc",
   "metadata": {},
   "outputs": [
    {
     "name": "stdout",
     "output_type": "stream",
     "text": [
      "1 3 5 7 9 "
     ]
    }
   ],
   "source": [
    "for x in range(1 , 10 , 2) :\n",
    "    print(x , end = ' ')\n"
   ]
  },
  {
   "cell_type": "markdown",
   "id": "23270e0e-7635-40cb-9e36-8b6e340141ad",
   "metadata": {},
   "source": [
    "print the Squares of odd numbers from 1 to 10"
   ]
  },
  {
   "cell_type": "code",
   "execution_count": 29,
   "id": "045d3051-9202-446b-bd91-a8f10c6e9c10",
   "metadata": {},
   "outputs": [
    {
     "name": "stdout",
     "output_type": "stream",
     "text": [
      "1 9 25 49 81 "
     ]
    }
   ],
   "source": [
    "for i in range(1 , 10 , 2) :\n",
    "    print(i * i , end =' ')"
   ]
  },
  {
   "cell_type": "markdown",
   "id": "ae6b71ab-b2cd-41e0-b1b3-612873a4ae37",
   "metadata": {},
   "source": [
    "print the cubes of all numbers  from 9 to 1 . (Reverse) [9 , 7 , 5 , 3 , 1 ] -->"
   ]
  },
  {
   "cell_type": "code",
   "execution_count": 30,
   "id": "cc93c5a9-4f31-4208-9cdc-db404c33ffb4",
   "metadata": {},
   "outputs": [
    {
     "name": "stdout",
     "output_type": "stream",
     "text": [
      "729 343 125 27 1 "
     ]
    }
   ],
   "source": [
    "for i in range(9 , 0 , -2):\n",
    "    print(i**3 , end = ' ')"
   ]
  },
  {
   "cell_type": "markdown",
   "id": "102f88df-2cc4-4357-a9c7-5d5e554e95c6",
   "metadata": {},
   "source": [
    "### Sum of Digits"
   ]
  },
  {
   "cell_type": "markdown",
   "id": "915f4196-a985-4aa3-8e8a-b0b3af3d684d",
   "metadata": {},
   "source": [
    "Given a number , compute the sum of its digits"
   ]
  },
  {
   "cell_type": "code",
   "execution_count": 31,
   "id": "d15aa835-fedb-455f-9603-a0e2514140c7",
   "metadata": {},
   "outputs": [
    {
     "name": "stdin",
     "output_type": "stream",
     "text": [
      " 1234\n"
     ]
    }
   ],
   "source": [
    "n = int(input())\n"
   ]
  },
  {
   "cell_type": "code",
   "execution_count": 32,
   "id": "1dcd05a6-58a8-4737-90bc-504e0fd96600",
   "metadata": {},
   "outputs": [
    {
     "name": "stdout",
     "output_type": "stream",
     "text": [
      "10\n"
     ]
    }
   ],
   "source": [
    "sum = 0\n",
    "while n >0:\n",
    "    digit= n % 10\n",
    "    sum = sum + digit\n",
    "    n = n // 10\n",
    "\n",
    "\n",
    "print(sum)\n",
    "    "
   ]
  },
  {
   "cell_type": "code",
   "execution_count": 33,
   "id": "7aec88d1-3a5a-406f-85c5-2b7888b6def2",
   "metadata": {},
   "outputs": [
    {
     "name": "stdout",
     "output_type": "stream",
     "text": [
      "1 2 3 4 \n",
      "1 2 3 \n",
      "1 2 \n",
      "1 \n"
     ]
    }
   ],
   "source": [
    "\n",
    "for i in range(4 , 0 , -1):\n",
    "    for j in range(1 , i+1):\n",
    "        print(j ,end=' ')\n",
    "    print()"
   ]
  }
 ],
 "metadata": {
  "kernelspec": {
   "display_name": "Python 3 (ipykernel)",
   "language": "python",
   "name": "python3"
  },
  "language_info": {
   "codemirror_mode": {
    "name": "ipython",
    "version": 3
   },
   "file_extension": ".py",
   "mimetype": "text/x-python",
   "name": "python",
   "nbconvert_exporter": "python",
   "pygments_lexer": "ipython3",
   "version": "3.11.7"
  }
 },
 "nbformat": 4,
 "nbformat_minor": 5
}
